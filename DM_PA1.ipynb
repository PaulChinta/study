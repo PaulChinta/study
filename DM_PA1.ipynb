{
  "nbformat": 4,
  "nbformat_minor": 0,
  "metadata": {
    "colab": {
      "provenance": [],
      "authorship_tag": "ABX9TyPfll1l/QIoHg3LIVSA9NAv",
      "include_colab_link": true
    },
    "kernelspec": {
      "name": "python3",
      "display_name": "Python 3"
    },
    "language_info": {
      "name": "python"
    },
    "accelerator": "GPU",
    "gpuClass": "standard"
  },
  "cells": [
    {
      "cell_type": "markdown",
      "metadata": {
        "id": "view-in-github",
        "colab_type": "text"
      },
      "source": [
        "<a href=\"https://colab.research.google.com/github/PaulChinta/study/blob/main/DM_PA1.ipynb\" target=\"_parent\"><img src=\"https://colab.research.google.com/assets/colab-badge.svg\" alt=\"Open In Colab\"/></a>"
      ]
    },
    {
      "cell_type": "code",
      "source": [
        "#only run this\n",
        "from google.colab import drive\n",
        "drive.mount('/content/drive')"
      ],
      "metadata": {
        "colab": {
          "base_uri": "https://localhost:8080/"
        },
        "id": "XMUin2bBAn8R",
        "outputId": "1b1e77b5-911e-426d-8b32-d31278889b08"
      },
      "execution_count": 1,
      "outputs": [
        {
          "output_type": "stream",
          "name": "stdout",
          "text": [
            "Mounted at /content/drive\n"
          ]
        }
      ]
    },
    {
      "cell_type": "code",
      "source": [
        "import os\n",
        "os.environ['KAGGLE_CONFIG_DIR']='/content/drive/MyDrive/Kaggle/'"
      ],
      "metadata": {
        "id": "YFIJqnlHJVUC"
      },
      "execution_count": 13,
      "outputs": []
    },
    {
      "cell_type": "code",
      "source": [
        "%cd '/content/drive/MyDrive/Kaggle/'"
      ],
      "metadata": {
        "colab": {
          "base_uri": "https://localhost:8080/"
        },
        "id": "NXqLfz52JVYx",
        "outputId": "c822e713-6d0c-4b15-e577-aaef9909bd72"
      },
      "execution_count": 14,
      "outputs": [
        {
          "output_type": "stream",
          "name": "stdout",
          "text": [
            "/content/drive/MyDrive/Kaggle\n"
          ]
        }
      ]
    },
    {
      "cell_type": "code",
      "source": [
        "!kaggle datasets download -d samaneheslamifar/facial-emotion-expressions"
      ],
      "metadata": {
        "colab": {
          "base_uri": "https://localhost:8080/"
        },
        "id": "qLKZ6OBkJ2_m",
        "outputId": "5191f4b4-0f60-4949-f614-9870287f08e6"
      },
      "execution_count": 15,
      "outputs": [
        {
          "output_type": "stream",
          "name": "stdout",
          "text": [
            "Downloading facial-emotion-expressions.zip to /content/drive/MyDrive/Kaggle\n",
            " 94% 113M/121M [00:01<00:00, 88.3MB/s]\n",
            "100% 121M/121M [00:01<00:00, 84.2MB/s]\n"
          ]
        }
      ]
    },
    {
      "cell_type": "code",
      "source": [
        "!unzip \\*.zip && rm *.zip"
      ],
      "metadata": {
        "id": "7imrvy5RKmio"
      },
      "execution_count": null,
      "outputs": []
    },
    {
      "cell_type": "code",
      "source": [
        "import torch\n",
        "from torch.utils.data import Dataset\n",
        "from torchvision import datasets\n",
        "from torchvision.transforms import ToTensor\n",
        "import matplotlib.pyplot as plt\n",
        "import torchvision\n",
        "import torchvision.transforms as transforms\n",
        "import matplotlib.pyplot as plt"
      ],
      "metadata": {
        "id": "jbaQeGqXZSpz"
      },
      "execution_count": 18,
      "outputs": []
    },
    {
      "cell_type": "code",
      "source": [
        "import numpy as np"
      ],
      "metadata": {
        "id": "7uq9_QypT0sN"
      },
      "execution_count": 70,
      "outputs": []
    },
    {
      "cell_type": "code",
      "source": [
        "train_path='/content/drive/MyDrive/Kaggle/images/train'\n",
        "validation_path='/content/drive/MyDrive/Kaggle/images/validation'\n",
        "\n",
        "\n",
        "t=transforms.Compose([transforms.ToTensor()])"
      ],
      "metadata": {
        "id": "w_BttVqVfrPO"
      },
      "execution_count": 19,
      "outputs": []
    },
    {
      "cell_type": "code",
      "source": [
        "train_dataset=torchvision.datasets.ImageFolder(root=train_path,transform=t)\n",
        "validation_dataset=torchvision.datasets.ImageFolder(root=validation_path,transform=t)\n",
        "classes = ('angry', 'disgust', 'fear', 'happy', 'sad', 'surprise', 'neutral')"
      ],
      "metadata": {
        "id": "YOBjhGG2f-9J"
      },
      "execution_count": 34,
      "outputs": []
    },
    {
      "cell_type": "code",
      "source": [
        "def random4(dataset):\n",
        "  return [dataset[np.random.randint(len(dataset))] for x in range(4)]"
      ],
      "metadata": {
        "id": "aMxtavN9QMI0"
      },
      "execution_count": 113,
      "outputs": []
    },
    {
      "cell_type": "code",
      "source": [
        "def display(image,label,classes):\n",
        "  plt.figure(figsize=(9,9))\n",
        "  plt.subplot(1,4,1)\n",
        "  plt.imshow(image[0].permute(1, 2, 0))\n",
        "  plt.title(classes[label[0]])\n",
        "  plt.subplot(1,4,2)\n",
        "  plt.imshow(image[1].permute(1, 2, 0))\n",
        "  plt.title(classes[label[1]])\n",
        "  plt.subplot(1,4,3)\n",
        "  plt.imshow(image[2].permute(1, 2, 0))\n",
        "  plt.title(classes[label[2]])\n",
        "  plt.subplot(1,4,4)\n",
        "  plt.imshow(image[3].permute(1, 2, 0))\n",
        "  plt.title(classes[label[3]])"
      ],
      "metadata": {
        "id": "eqhPLbQvP_V1"
      },
      "execution_count": 88,
      "outputs": []
    },
    {
      "cell_type": "code",
      "source": [
        "def lossgraph(list_loss):\n",
        "  if isinstance(list_loss,tuple):\n",
        "    for i in list_loss:\n",
        "      x=range(len(i))\n",
        "      y=i\n",
        "      plt.plot(x,y,marker ='.')\n",
        "      plt.legend([\"train loss\", \"test loss\"])\n",
        "  else:\n",
        "    x=range(len(list_loss))\n",
        "    y=list_loss\n",
        "    plt.plot(x,y,marker ='.')\n",
        "    plt.show()\n",
        "    plt.legend([\"train loss\", \"test loss\"])"
      ],
      "metadata": {
        "id": "g7YQeNFgX3Pi"
      },
      "execution_count": 195,
      "outputs": []
    },
    {
      "cell_type": "code",
      "source": [
        "b=random4(validation_dataset)\n",
        "image=[b[x][0] for x in range(len(b))]\n",
        "label=[b[x][1]for x in range(len(b))]\n",
        "display(image,label,classes)"
      ],
      "metadata": {
        "colab": {
          "base_uri": "https://localhost:8080/",
          "height": 173
        },
        "id": "wQmIYKv5Rh56",
        "outputId": "76e4accc-ec33-4eda-d67b-af7aeaa25b54"
      },
      "execution_count": 117,
      "outputs": [
        {
          "output_type": "display_data",
          "data": {
            "text/plain": [
              "<Figure size 648x648 with 4 Axes>"
            ],
            "image/png": "[encoded data removed]"
          },
          "metadata": {
            "needs_background": "light"
          }
        }
      ]
    },
    {
      "cell_type": "code",
      "source": [
        "train_samples=len(train_dataset)\n",
        "valid_samples=len(validation_dataset)\n",
        "print(\"samples in train set : \"+str(train_samples))\n",
        "print(\"samples in validation set : \"+str(valid_samples))\n",
        "print(\"total samples : \"+str(train_samples+valid_samples))"
      ],
      "metadata": {
        "colab": {
          "base_uri": "https://localhost:8080/"
        },
        "id": "I7bdxuUr8C2M",
        "outputId": "48180862-0c24-428b-bb3d-0a5515ae9358"
      },
      "execution_count": 119,
      "outputs": [
        {
          "output_type": "stream",
          "name": "stdout",
          "text": [
            "samples in train set : 28821\n",
            "samples in validation set : 7066\n",
            "total samples : 35887\n"
          ]
        }
      ]
    },
    {
      "cell_type": "code",
      "source": [
        "#create network class which takes layers"
      ],
      "metadata": {
        "id": "a8Y06OgVYauX"
      },
      "execution_count": 122,
      "outputs": []
    },
    {
      "cell_type": "code",
      "execution_count": 211,
      "metadata": {
        "id": "pPSw1mx_yl5g"
      },
      "outputs": [],
      "source": [
        "import torch.nn as nn\n",
        "import torch.nn.functional as F\n",
        "\n",
        "#network architecture\n",
        "\n",
        "class Net(nn.Module):\n",
        "    def __init__(self):\n",
        "        super().__init__()\n",
        "        self.conv1 = nn.Conv2d(3, 16, 3)\n",
        "        self.conv2 = nn.Conv2d(16, 16, 3)\n",
        "        self.pool = nn.MaxPool2d(2, 2)\n",
        "        self.conv3 = nn.Conv2d(16, 16, 3)\n",
        "        self.conv4 = nn.Conv2d(16, 16, 3)\n",
        "        self.fc1 = nn.Linear(1296, 50)\n",
        "        self.fc2 = nn.Linear(50, 7)\n",
        "\n",
        "    def forward(self, x):\n",
        "        x =F.relu(self.conv1(x)) \n",
        "        x = F.relu(self.pool(self.conv2(x)))\n",
        "        x =F.relu(self.conv3(x)) \n",
        "        x = F.relu(self.pool(self.conv4(x)))\n",
        "        x = torch.flatten(x, 1) # flatten all dimensions except batch\n",
        "        x = F.relu(self.fc1(x))\n",
        "        x = self.fc2(x)\n",
        "        return x\n",
        "\n",
        "\n",
        "net = Net()"
      ]
    },
    {
      "cell_type": "code",
      "source": [
        "import torch.optim as optim\n",
        "criterion = nn.CrossEntropyLoss()\n",
        "optimizer = optim.SGD(net.parameters(), lr=0.001, momentum=0.9)"
      ],
      "metadata": {
        "id": "rfPy0Ju56aJ1"
      },
      "execution_count": 206,
      "outputs": []
    },
    {
      "cell_type": "code",
      "source": [
        "batch_size=4\n",
        "trainloader=torch.utils.data.DataLoader(train_dataset,batch_size=batch_size,shuffle=True)\n",
        "testloader=torch.utils.data.DataLoader(validation_dataset,batch_size=batch_size,shuffle=True)"
      ],
      "metadata": {
        "id": "Pb6sPt5GPv6D"
      },
      "execution_count": 209,
      "outputs": []
    },
    {
      "cell_type": "code",
      "source": [
        "# train\n",
        "for epoch in range(2):  # loop over the dataset multiple times\n",
        "    train_loss=[]\n",
        "    test_loss=[]\n",
        "    it = iter(testloader)\n",
        "    running_loss = 0.0\n",
        "    for i, data in enumerate(trainloader, 0):\n",
        "        # get the inputs; data is a list of [inputs, labels]\n",
        "        inputs, labels = data\n",
        "\n",
        "        # zero the parameter gradients\n",
        "        optimizer.zero_grad()\n",
        "\n",
        "        # forward + backward + optimize\n",
        "        outputs = net(inputs)\n",
        "        loss = criterion(outputs, labels)\n",
        "        loss.backward()\n",
        "        optimizer.step()\n",
        "\n",
        "        # print statistics\n",
        "        running_loss += loss.item()\n",
        "      \n",
        "        if i % 500 == 499:    # print every 2000 mini-batches\n",
        "            l=running_loss / 500\n",
        "            train_loss.append(l)\n",
        "            print(f'[{epoch + 1}, {i + 1:5d}] loss: {l:.3f}')\n",
        "            running_loss = 0.0\n",
        "\n",
        "            # input,label=testloader\n",
        "            \n",
        "            data = next(it)\n",
        "            input=data[0]\n",
        "            labels=data[1]\n",
        "            out=net(input)\n",
        "            loss = criterion(out, labels)\n",
        "            test_loss.append(loss.item())\n",
        "\n",
        "print('Finished Training')"
      ],
      "metadata": {
        "colab": {
          "base_uri": "https://localhost:8080/"
        },
        "id": "m2iCqGw7ymLR",
        "outputId": "b6705989-847a-4bd2-be04-3fe7b8c8be49"
      },
      "execution_count": 212,
      "outputs": [
        {
          "output_type": "stream",
          "name": "stdout",
          "text": [
            "[1,   500] loss: 1.926\n",
            "[1,  1000] loss: 1.925\n",
            "[1,  1500] loss: 1.927\n",
            "[1,  2000] loss: 1.926\n",
            "[1,  2500] loss: 1.926\n",
            "[1,  3000] loss: 1.926\n",
            "[1,  3500] loss: 1.925\n",
            "[1,  4000] loss: 1.925\n",
            "[1,  4500] loss: 1.925\n",
            "[1,  5000] loss: 1.925\n",
            "[1,  5500] loss: 1.925\n",
            "[1,  6000] loss: 1.925\n",
            "[1,  6500] loss: 1.926\n",
            "[1,  7000] loss: 1.926\n",
            "[2,   500] loss: 1.926\n",
            "[2,  1000] loss: 1.926\n",
            "[2,  1500] loss: 1.925\n",
            "[2,  2000] loss: 1.926\n",
            "[2,  2500] loss: 1.925\n",
            "[2,  3000] loss: 1.925\n",
            "[2,  3500] loss: 1.927\n",
            "[2,  4000] loss: 1.925\n",
            "[2,  4500] loss: 1.925\n",
            "[2,  5000] loss: 1.925\n",
            "[2,  5500] loss: 1.926\n",
            "[2,  6000] loss: 1.925\n",
            "[2,  6500] loss: 1.926\n",
            "[2,  7000] loss: 1.925\n",
            "Finished Training\n"
          ]
        }
      ]
    },
    {
      "cell_type": "code",
      "source": [
        "test_loss"
      ],
      "metadata": {
        "colab": {
          "base_uri": "https://localhost:8080/"
        },
        "id": "X7su1xrfoKsR",
        "outputId": "b14525e8-d278-4c9b-9a10-1665fd639d63"
      },
      "execution_count": 203,
      "outputs": [
        {
          "output_type": "execute_result",
          "data": {
            "text/plain": [
              "[1.7971433401107788,\n",
              " 1.6405699253082275,\n",
              " 1.4729111194610596,\n",
              " 1.7989859580993652,\n",
              " 1.6982945203781128,\n",
              " 1.6877977848052979,\n",
              " 1.7205554246902466,\n",
              " 1.7250909805297852,\n",
              " 1.7564244270324707,\n",
              " 1.8133196830749512,\n",
              " 1.963386058807373,\n",
              " 1.5598045587539673,\n",
              " 1.501670479774475,\n",
              " 1.9587972164154053]"
            ]
          },
          "metadata": {},
          "execution_count": 203
        }
      ]
    },
    {
      "cell_type": "code",
      "source": [
        "lossgraph((train_loss,test_loss))"
      ],
      "metadata": {
        "colab": {
          "base_uri": "https://localhost:8080/",
          "height": 265
        },
        "id": "3T2KDYnsezZ9",
        "outputId": "f8fc990d-1a97-43fe-a80c-e1beec95902f"
      },
      "execution_count": 213,
      "outputs": [
        {
          "output_type": "display_data",
          "data": {
            "text/plain": [
              "<Figure size 432x288 with 1 Axes>"
            ],
            "image/png": "[encoded data removed]"
          },
          "metadata": {
            "needs_background": "light"
          }
        }
      ]
    },
    {
      "cell_type": "code",
      "source": [
        " #tester\n",
        "for epoch in range(2):  # loop over the dataset multiple times\n",
        "    test_loss=[]\n",
        "    running_loss2 = 0.0\n",
        "    for j, testdata in enumerate(testloader, 0):\n",
        "        # get the inputs; data is a list of [inputs, labels]\n",
        "        test_inputs, test_labels = testdata\n",
        "        # forward + backward + optimize\n",
        "        test_outputs = net(test_inputs)\n",
        "        test_loss = criterion(test_outputs, test_labels)\n",
        "\n",
        "        # print statistics\n",
        "        running_loss2 += test_loss.item()\n",
        "      \n",
        "        if j % 500 == 499:    # print every 2000 mini-batches\n",
        "            l2=running_loss2 / 500\n",
        "            test_loss.append(l2)\n",
        "            print(f'[{epoch + 1}, {i + 1:5d}] loss: {l2:.3f}')\n",
        "            running_loss2 = 0.0\n",
        "\n",
        "print('Finished Training')"
      ],
      "metadata": {
        "id": "krOfwstPX59S"
      },
      "execution_count": 140,
      "outputs": []
    },
    {
      "cell_type": "code",
      "source": [],
      "metadata": {
        "id": "fMFE-vRUcHVI"
      },
      "execution_count": null,
      "outputs": []
    }
  ]
}